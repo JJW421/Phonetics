{
  "nbformat": 4,
  "nbformat_minor": 0,
  "metadata": {
    "colab": {
      "provenance": [],
      "toc_visible": true,
      "include_colab_link": true
    },
    "kernelspec": {
      "name": "python3",
      "display_name": "Python 3"
    },
    "language_info": {
      "name": "python"
    }
  },
  "cells": [
    {
      "cell_type": "markdown",
      "metadata": {
        "id": "view-in-github",
        "colab_type": "text"
      },
      "source": [
        "<a href=\"https://colab.research.google.com/github/JJW421/Phonetics/blob/main/STT_WER_StudentActivity.ipynb\" target=\"_parent\"><img src=\"https://colab.research.google.com/assets/colab-badge.svg\" alt=\"Open In Colab\"/></a>"
      ]
    },
    {
      "cell_type": "markdown",
      "source": [
        "## 🐹 🐾  <font color = 'red'>**SST (Speech-to-Text)**\n",
        "\n",
        "- 학생이 발화한 12개의 문장이 text로 변환됩니다."
      ],
      "metadata": {
        "id": "lZSCtbAgHwHX"
      }
    },
    {
      "cell_type": "code",
      "source": [],
      "metadata": {
        "id": "7A8KZ2M6TIBi"
      },
      "execution_count": null,
      "outputs": []
    },
    {
      "cell_type": "code",
      "execution_count": 7,
      "metadata": {
        "id": "tCu_W_eg-n4N",
        "outputId": "00667362-3907-4bb4-fb86-3e0ee1c00438",
        "colab": {
          "base_uri": "https://localhost:8080/"
        }
      },
      "outputs": [
        {
          "output_type": "stream",
          "name": "stdout",
          "text": [
            "Requirement already satisfied: SpeechRecognition in /usr/local/lib/python3.10/dist-packages (3.12.0)\n",
            "Requirement already satisfied: typing-extensions in /usr/local/lib/python3.10/dist-packages (from SpeechRecognition) (4.12.2)\n",
            "File: comma_s3.wav\n",
            "Text: what area was much in your hair for her anymore to her\n",
            "Word Count: 12\n",
            "\n",
            "File: comma_s4.wav\n",
            "Text: even though want her for the morning she\n",
            "Word Count: 8\n",
            "\n",
            "File: comma_s5.wav\n",
            "Text: create a border of apology check herself in the mirror and was it her face in\n",
            "Word Count: 16\n",
            "\n",
            "File: comma_s9.wav\n",
            "Text: put in our implies that the animal could be suffering from a layer for mobile foot and mouth disease which was which water surprising because normally you would really expect to sit in a dog\n",
            "Word Count: 35\n",
            "\n",
            "File: comma_s7.wav\n",
            "Text: when she got there there was a woman with a ghost before eating\n",
            "Word Count: 13\n",
            "\n",
            "File: comma_s2.wav\n",
            "Text: stop playing news who had been working diary daily at on order to do in deserted District over the territory so she was very happy to start on your job as you put prepaid practice in North Korea near the Duke Street Tower\n",
            "Word Count: 43\n",
            "\n",
            "File: comma_s6.wav\n",
            "Text: then ship to do not play yellow dress and please please the jacket pick up her kids and had it\n",
            "Word Count: 20\n",
            "\n",
            "File: comma_s11.wav\n",
            "Text: before the alarm that it goes back into stroke around the face like lunatic which made on on Seminary\n",
            "Word Count: 19\n",
            "\n",
            "File: comma_s1.wav\n",
            "Text: well here's a story for\n",
            "Word Count: 5\n",
            "\n",
            "File: comma_s12.wav\n",
            "Text: who's owner married to Harrison keep calling comma comma which is Sarasota was on all the choice for\n",
            "Word Count: 18\n",
            "\n",
            "File: comma_s8.wav\n",
            "Text: the man gave Sarah on the picture later from the\n",
            "Word Count: 10\n",
            "\n",
            "File: comma_s10.wav\n",
            "Text: Santa Rosa Elementary so this matter feel sorry for beautiful for the beautiful\n",
            "Word Count: 13\n",
            "\n"
          ]
        }
      ],
      "source": [
        "!pip install SpeechRecognition\n",
        "\n",
        "import os\n",
        "import speech_recognition as sr\n",
        "\n",
        "def convert_speech_to_text(audio_file):\n",
        "    recognizer = sr.Recognizer()\n",
        "\n",
        "    with sr.AudioFile(audio_file) as source:\n",
        "        audio = recognizer.record(source)  # Load the audio file\n",
        "\n",
        "    text = recognizer.recognize_google(audio)  # Use Google Speech Recognition API\n",
        "\n",
        "    return text\n",
        "\n",
        "def count_words(text):\n",
        "    words = text.split()  # Split the text into words\n",
        "    return len(words)    # Return the count of words\n",
        "\n",
        "# Path to the folder containing the WAV files\n",
        "folder_path = \"/content/sent12\"   #💋폴더 경로를 \" \"안에 입력하세요.\n",
        "\n",
        "# Iterate over the files in the folder\n",
        "for filename in os.listdir(folder_path):\n",
        "    if filename.endswith(\".wav\"):\n",
        "        audio_file = os.path.join(folder_path, filename)\n",
        "\n",
        "        converted_text = convert_speech_to_text(audio_file)  # Convert speech to text\n",
        "\n",
        "        word_count = count_words(converted_text)  # Count the words in the converted text\n",
        "\n",
        "        print(f\"File: {filename}\")\n",
        "        print(f\"Text: {converted_text}\")\n",
        "        print(f\"Word Count: {word_count}\\n\")\n"
      ]
    },
    {
      "cell_type": "markdown",
      "source": [
        "###<font color = 'green'> **🐹 👀 Compare each speaker's utterance with the reference text.**\n",
        "\n",
        "- 위에 나온 각 문장 발화를 아래 문장 번호를 찾아서 'copy & paste' 하세요."
      ],
      "metadata": {
        "id": "zwI3d0XUJdmI"
      }
    },
    {
      "cell_type": "code",
      "source": [
        "!pip install python-Levenshtein\n",
        "import Levenshtein\n",
        "\n",
        "def calculate_wer(reference, hypothesis):\n",
        "    reference_words = reference.split()\n",
        "    hypothesis_words = hypothesis.split()\n",
        "\n",
        "    # Compute Levenshtein distance between the reference and hypothesis\n",
        "    distance = Levenshtein.distance(reference_words, hypothesis_words)\n",
        "\n",
        "    # Calculate Word Error Rate (WER)\n",
        "    wer = distance / len(reference_words)\n",
        "    return wer\n",
        "\n",
        "#Compare hypothesis with reference\n",
        "reference_text1 = \"well here's a story for you\"\n",
        "hypothesis_text1 = \"well here's a story for\"\n",
        "wer1 = calculate_wer(reference_text1, hypothesis_text1)\n",
        "print(f\"Word Error Rate (WER): {wer1}\")\n",
        "\n",
        "reference_text2 = \"sarah perry was a veterinary nurse who had been working daily at an old zoo in a deserted district of the territory so she was very happy to start a new job at a superb private practice in north square near the duke street tower\"\n",
        "hypothesis_text2 = \"stop playing news who had been working diary daily at on order to do in deserted District over the territory so she was very happy to start on your job as you put prepaid practice in North Korea near the Duke Street Tower\"\n",
        "wer2 = calculate_wer(reference_text2, hypothesis_text2)\n",
        "print(f\"Word Error Rate (WER): {wer2}\")\n",
        "\n",
        "reference_text3 = \"that area was much nearer for her and more to her liking\"\n",
        "hypothesis_text3 = \"what area was much in your hair for her anymore to her\"\n",
        "wer3 = calculate_wer(reference_text3, hypothesis_text3)\n",
        "print(f\"Word Error Rate (WER): {wer3}\")\n",
        "\n",
        "reference_text4 = \"even so on her first morning she felt stressed\"\n",
        "hypothesis_text4 = \"even though want her for the morning she\"\n",
        "wer4 = calculate_wer(reference_text4, hypothesis_text4)\n",
        "print(f\"Word Error Rate (WER): {wer4}\")\n",
        "\n",
        "reference_text5 = \"she ate a bowl of porridge checked herself in the mirror and washed her face in a hurry\"\n",
        "hypothesis_text5 = \"create a border of apology check herself in the mirror and was it her face in\"\n",
        "wer5 = calculate_wer(reference_text5, hypothesis_text5)\n",
        "print(f\"Word Error Rate (WER): {wer5}\")\n",
        "\n",
        "reference_text6 = \"then she put on a plain yellow dress and a fleece jacket picked up her kit and headed for work\"\n",
        "hypothesis_text6 = \"then ship to do not play yellow dress and please please the jacket pick up her kids and had it\"\n",
        "wer6 = calculate_wer(reference_text6, hypothesis_text6)\n",
        "print(f\"Word Error Rate (WER): {wer6}\")\n",
        "\n",
        "reference_text7 = \"when she got there there was a woman with a goose waiting for her\"\n",
        "hypothesis_text7 = \"when she got there there was a woman with a ghost before eating\"\n",
        "wer7 = calculate_wer(reference_text7, hypothesis_text7)\n",
        "print(f\"Word Error Rate (WER): {wer7}\")\n",
        "\n",
        "reference_text8 = \"the woman gave Sarah an official letter from the vet\"\n",
        "hypothesis_text8 = \"the man gave Sarah on the picture later from the\"\n",
        "wer8 = calculate_wer(reference_text8, hypothesis_text8)\n",
        "print(f\"Word Error Rate (WER): {wer8}\")\n",
        "\n",
        "reference_text9 = \"the letter implied that the animal could be suffering from a rare form of foot and mouth disease which was surprising because normally you would only expect to see it in a dog or a goat\"\n",
        "hypothesis_text9 = \"put in our implies that the animal could be suffering from a layer for mobile foot and mouth disease which was which water surprising because normally you would really expect to sit in a dog\"\n",
        "wer9 = calculate_wer(reference_text9, hypothesis_text9)\n",
        "print(f\"Word Error Rate (WER): {wer9}\")\n",
        "\n",
        "reference_text10 = \"sarah was sentimental so this made her feel sorry for the beautiful bird\"\n",
        "hypothesis_text10 = \"Santa Rosa Elementary so this matter feel sorry for beautiful for the beautiful\"\n",
        "wer10 = calculate_wer(reference_text10, hypothesis_text10)\n",
        "print(f\"Word Error Rate (WER): {wer10}\")\n",
        "\n",
        "reference_text11 = \"before long that itchy goose began to strut around the office like a lunatic which made an unsanitary mess\"\n",
        "hypothesis_text11 = \"before the alarm that it goes back into stroke around the face like lunatic which made on on Seminary\"\n",
        "wer11 = calculate_wer(reference_text11, hypothesis_text11)\n",
        "print(f\"Word Error Rate (WER): {wer11}\")\n",
        "\n",
        "reference_text12 = \"the goose's owner mary harrison kept calling comma comma which Sarah thought was an odd choice for a name\"\n",
        "hypothesis_text12 = \"who's owner married to Harrison keep calling comma comma which is Sarasota was on all the choice for\"\n",
        "wer12 = calculate_wer(reference_text12, hypothesis_text12)\n",
        "print(f\"Word Error Rate (WER): {wer12}\")"
      ],
      "metadata": {
        "id": "dQt3o3-V0YRc",
        "collapsed": true,
        "outputId": "25446ad4-1b63-42f7-890b-d7a19d8507ed",
        "colab": {
          "base_uri": "https://localhost:8080/"
        }
      },
      "execution_count": 16,
      "outputs": [
        {
          "output_type": "stream",
          "name": "stdout",
          "text": [
            "Requirement already satisfied: python-Levenshtein in /usr/local/lib/python3.10/dist-packages (0.26.1)\n",
            "Requirement already satisfied: Levenshtein==0.26.1 in /usr/local/lib/python3.10/dist-packages (from python-Levenshtein) (0.26.1)\n",
            "Requirement already satisfied: rapidfuzz<4.0.0,>=3.9.0 in /usr/local/lib/python3.10/dist-packages (from Levenshtein==0.26.1->python-Levenshtein) (3.10.1)\n",
            "Word Error Rate (WER): 0.16666666666666666\n",
            "Word Error Rate (WER): 0.5555555555555556\n",
            "Word Error Rate (WER): 0.5833333333333334\n",
            "Word Error Rate (WER): 0.6666666666666666\n",
            "Word Error Rate (WER): 0.5\n",
            "Word Error Rate (WER): 0.65\n",
            "Word Error Rate (WER): 0.2857142857142857\n",
            "Word Error Rate (WER): 0.6\n",
            "Word Error Rate (WER): 0.4166666666666667\n",
            "Word Error Rate (WER): 0.6153846153846154\n",
            "Word Error Rate (WER): 0.631578947368421\n",
            "Word Error Rate (WER): 0.6842105263157895\n"
          ]
        }
      ]
    },
    {
      "cell_type": "code",
      "source": [],
      "metadata": {
        "id": "JvK-vf7qSFEX"
      },
      "execution_count": null,
      "outputs": []
    }
  ]
}